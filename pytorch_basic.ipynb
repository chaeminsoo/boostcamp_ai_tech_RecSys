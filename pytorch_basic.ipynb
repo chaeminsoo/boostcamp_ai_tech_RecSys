{
  "nbformat": 4,
  "nbformat_minor": 0,
  "metadata": {
    "colab": {
      "provenance": [],
      "authorship_tag": "ABX9TyNQPYSGIw5E6wYRT1Ho9dqt",
      "include_colab_link": true
    },
    "kernelspec": {
      "name": "python3",
      "display_name": "Python 3"
    },
    "language_info": {
      "name": "python"
    }
  },
  "cells": [
    {
      "cell_type": "markdown",
      "metadata": {
        "id": "view-in-github",
        "colab_type": "text"
      },
      "source": [
        "<a href=\"https://colab.research.google.com/github/chaeminsoo/boostcamp_ai_tech_RecSys/blob/main/pytorch_basic.ipynb\" target=\"_parent\"><img src=\"https://colab.research.google.com/assets/colab-badge.svg\" alt=\"Open In Colab\"/></a>"
      ]
    },
    {
      "cell_type": "code",
      "execution_count": 2,
      "metadata": {
        "colab": {
          "base_uri": "https://localhost:8080/"
        },
        "id": "PfaCqHrtTfIR",
        "outputId": "25d11915-72ad-4b28-d3cc-9f2697ac9471"
      },
      "outputs": [
        {
          "output_type": "stream",
          "name": "stdout",
          "text": [
            "[[0 1 2 3 4]\n",
            " [5 6 7 8 9]]\n",
            "ndim:  2 shape:  (2, 5)\n"
          ]
        }
      ],
      "source": [
        "import numpy as np\n",
        "n_array = np.arange(10).reshape(2,5)\n",
        "print(n_array)\n",
        "print('ndim: ', n_array.ndim, 'shape: ', n_array.shape)"
      ]
    },
    {
      "cell_type": "code",
      "source": [
        "import torch\n",
        "t_array = torch.FloatTensor(n_array)\n",
        "print(t_array)\n",
        "print('ndim: ', t_array.ndim, 'shape: ', t_array.shape)"
      ],
      "metadata": {
        "colab": {
          "base_uri": "https://localhost:8080/"
        },
        "id": "ChP0xMM6c86e",
        "outputId": "074983d8-90e7-4d43-8a49-8e66a49d4913"
      },
      "execution_count": 3,
      "outputs": [
        {
          "output_type": "stream",
          "name": "stdout",
          "text": [
            "tensor([[0., 1., 2., 3., 4.],\n",
            "        [5., 6., 7., 8., 9.]])\n",
            "ndim:  2 shape:  torch.Size([2, 5])\n"
          ]
        }
      ]
    },
    {
      "cell_type": "markdown",
      "source": [
        "# mm VS dot VS matmul"
      ],
      "metadata": {
        "id": "-trRcieOhrdm"
      }
    },
    {
      "cell_type": "code",
      "source": [
        "n1 = np.arange(10).reshape(2,5)\n",
        "t1 = torch.FloatTensor(n1)\n",
        "n2 = np.arange(10).reshape(5,2)\n",
        "t2 = torch.FloatTensor(n2)\n",
        "print(t1)\n",
        "print()\n",
        "print(t2)"
      ],
      "metadata": {
        "colab": {
          "base_uri": "https://localhost:8080/"
        },
        "id": "pDzS0JkydYAg",
        "outputId": "9297d0c8-3a1c-4c42-d845-da0957096155"
      },
      "execution_count": 4,
      "outputs": [
        {
          "output_type": "stream",
          "name": "stdout",
          "text": [
            "tensor([[0., 1., 2., 3., 4.],\n",
            "        [5., 6., 7., 8., 9.]])\n",
            "\n",
            "tensor([[0., 1.],\n",
            "        [2., 3.],\n",
            "        [4., 5.],\n",
            "        [6., 7.],\n",
            "        [8., 9.]])\n"
          ]
        }
      ]
    },
    {
      "cell_type": "code",
      "source": [
        "t1.mm(t2) # 행열 곱"
      ],
      "metadata": {
        "colab": {
          "base_uri": "https://localhost:8080/"
        },
        "id": "9Zjvi89jiI8V",
        "outputId": "76003c21-416f-4c7a-9176-de47457e1d1f"
      },
      "execution_count": 5,
      "outputs": [
        {
          "output_type": "execute_result",
          "data": {
            "text/plain": [
              "tensor([[ 60.,  70.],\n",
              "        [160., 195.]])"
            ]
          },
          "metadata": {},
          "execution_count": 5
        }
      ]
    },
    {
      "cell_type": "code",
      "source": [
        "t1.dot(t2) # 벡터 곱을 위한 것"
      ],
      "metadata": {
        "colab": {
          "base_uri": "https://localhost:8080/",
          "height": 177
        },
        "id": "buomeX51cplq",
        "outputId": "19275f78-df04-483d-c031-2397df8341ac"
      },
      "execution_count": 7,
      "outputs": [
        {
          "output_type": "error",
          "ename": "RuntimeError",
          "evalue": "ignored",
          "traceback": [
            "\u001b[0;31m---------------------------------------------------------------------------\u001b[0m",
            "\u001b[0;31mRuntimeError\u001b[0m                              Traceback (most recent call last)",
            "\u001b[0;32m<ipython-input-7-e9d95797f0ac>\u001b[0m in \u001b[0;36m<module>\u001b[0;34m\u001b[0m\n\u001b[0;32m----> 1\u001b[0;31m \u001b[0mt1\u001b[0m\u001b[0;34m.\u001b[0m\u001b[0mdot\u001b[0m\u001b[0;34m(\u001b[0m\u001b[0mt2\u001b[0m\u001b[0;34m)\u001b[0m\u001b[0;34m\u001b[0m\u001b[0;34m\u001b[0m\u001b[0m\n\u001b[0m",
            "\u001b[0;31mRuntimeError\u001b[0m: 1D tensors expected, but got 2D and 2D tensors"
          ]
        }
      ]
    },
    {
      "cell_type": "code",
      "source": [
        " a = torch.rand(5,2,3)\n",
        " b = torch.rand(5)\n",
        " c = torch.rand(3)\n",
        " print(a)\n",
        " print()\n",
        " print(b)\n",
        " print()\n",
        " print(c)"
      ],
      "metadata": {
        "colab": {
          "base_uri": "https://localhost:8080/"
        },
        "id": "gmXY4gJLitBH",
        "outputId": "853726f7-9219-47d6-8337-0c98e013805b"
      },
      "execution_count": 11,
      "outputs": [
        {
          "output_type": "stream",
          "name": "stdout",
          "text": [
            "tensor([[[0.7172, 0.0113, 0.1756],\n",
            "         [0.3797, 0.2624, 0.6796]],\n",
            "\n",
            "        [[0.4680, 0.8949, 0.0726],\n",
            "         [0.5870, 0.8048, 0.4351]],\n",
            "\n",
            "        [[0.9841, 0.4128, 0.6443],\n",
            "         [0.4883, 0.0132, 0.6298]],\n",
            "\n",
            "        [[0.1708, 0.8437, 0.7702],\n",
            "         [0.1939, 0.9117, 0.3442]],\n",
            "\n",
            "        [[0.0350, 0.0788, 0.6781],\n",
            "         [0.5681, 0.1784, 0.3320]]])\n",
            "\n",
            "tensor([0.7493, 0.0028, 0.0879, 0.6992, 0.2594])\n",
            "\n",
            "tensor([0.1565, 0.6318, 0.1303])\n"
          ]
        }
      ]
    },
    {
      "cell_type": "code",
      "source": [
        "a.mm(b) # 벡터가 들어온 상황에서 broadcating을 지원하지 않기 때문에 Error 발생"
      ],
      "metadata": {
        "colab": {
          "base_uri": "https://localhost:8080/",
          "height": 177
        },
        "id": "oyjLnyWFjEMj",
        "outputId": "13224295-22a8-4e17-c447-0fb5b15d7942"
      },
      "execution_count": 9,
      "outputs": [
        {
          "output_type": "error",
          "ename": "RuntimeError",
          "evalue": "ignored",
          "traceback": [
            "\u001b[0;31m---------------------------------------------------------------------------\u001b[0m",
            "\u001b[0;31mRuntimeError\u001b[0m                              Traceback (most recent call last)",
            "\u001b[0;32m<ipython-input-9-017c9bfe91b4>\u001b[0m in \u001b[0;36m<module>\u001b[0;34m\u001b[0m\n\u001b[0;32m----> 1\u001b[0;31m \u001b[0ma\u001b[0m\u001b[0;34m.\u001b[0m\u001b[0mmm\u001b[0m\u001b[0;34m(\u001b[0m\u001b[0mb\u001b[0m\u001b[0;34m)\u001b[0m\u001b[0;34m\u001b[0m\u001b[0;34m\u001b[0m\u001b[0m\n\u001b[0m",
            "\u001b[0;31mRuntimeError\u001b[0m: self must be a matrix"
          ]
        }
      ]
    },
    {
      "cell_type": "code",
      "source": [
        "a.mm(c) # 벡터가 들어온 상황에서 broadcating을 지원하지 않기 때문에 Error 발생"
      ],
      "metadata": {
        "colab": {
          "base_uri": "https://localhost:8080/",
          "height": 177
        },
        "id": "_gAvzXsOji8N",
        "outputId": "e5e33fbf-a499-4e83-d381-9c02eef29b0d"
      },
      "execution_count": 12,
      "outputs": [
        {
          "output_type": "error",
          "ename": "RuntimeError",
          "evalue": "ignored",
          "traceback": [
            "\u001b[0;31m---------------------------------------------------------------------------\u001b[0m",
            "\u001b[0;31mRuntimeError\u001b[0m                              Traceback (most recent call last)",
            "\u001b[0;32m<ipython-input-12-bd397f55acad>\u001b[0m in \u001b[0;36m<module>\u001b[0;34m\u001b[0m\n\u001b[0;32m----> 1\u001b[0;31m \u001b[0ma\u001b[0m\u001b[0;34m.\u001b[0m\u001b[0mmm\u001b[0m\u001b[0;34m(\u001b[0m\u001b[0mc\u001b[0m\u001b[0;34m)\u001b[0m\u001b[0;34m\u001b[0m\u001b[0;34m\u001b[0m\u001b[0m\n\u001b[0m",
            "\u001b[0;31mRuntimeError\u001b[0m: self must be a matrix"
          ]
        }
      ]
    },
    {
      "cell_type": "code",
      "source": [
        "a.matmul(b) # 이건 사이즈가 안 맞아서 Error"
      ],
      "metadata": {
        "colab": {
          "base_uri": "https://localhost:8080/",
          "height": 177
        },
        "id": "wrSUOaoZjKV-",
        "outputId": "6b403c7d-4c9d-49b7-cc1b-48e0e44f7254"
      },
      "execution_count": 10,
      "outputs": [
        {
          "output_type": "error",
          "ename": "RuntimeError",
          "evalue": "ignored",
          "traceback": [
            "\u001b[0;31m---------------------------------------------------------------------------\u001b[0m",
            "\u001b[0;31mRuntimeError\u001b[0m                              Traceback (most recent call last)",
            "\u001b[0;32m<ipython-input-10-d9038bf14966>\u001b[0m in \u001b[0;36m<module>\u001b[0;34m\u001b[0m\n\u001b[0;32m----> 1\u001b[0;31m \u001b[0ma\u001b[0m\u001b[0;34m.\u001b[0m\u001b[0mmatmul\u001b[0m\u001b[0;34m(\u001b[0m\u001b[0mb\u001b[0m\u001b[0;34m)\u001b[0m \u001b[0;31m# 벡터가 들어온 상황에서 broadcating을 지원하지 않기 때문에 Error 발생\u001b[0m\u001b[0;34m\u001b[0m\u001b[0;34m\u001b[0m\u001b[0m\n\u001b[0m",
            "\u001b[0;31mRuntimeError\u001b[0m: size mismatch, got 10, 10x3,5"
          ]
        }
      ]
    },
    {
      "cell_type": "code",
      "source": [
        "a.matmul(c) # 벡터가 들어온 상황에서 broadcating을 지원하기 때문에 Error 발생하지 않음"
      ],
      "metadata": {
        "colab": {
          "base_uri": "https://localhost:8080/"
        },
        "id": "PFWSe3PojZQb",
        "outputId": "98d8ccdb-5e8d-494b-a8c0-6094da924d71"
      },
      "execution_count": 13,
      "outputs": [
        {
          "output_type": "execute_result",
          "data": {
            "text/plain": [
              "tensor([[0.1422, 0.3138],\n",
              "        [0.6481, 0.6570],\n",
              "        [0.4988, 0.1668],\n",
              "        [0.6602, 0.6512],\n",
              "        [0.1436, 0.2449]])"
            ]
          },
          "metadata": {},
          "execution_count": 13
        }
      ]
    },
    {
      "cell_type": "markdown",
      "source": [
        "# AutoGrad"
      ],
      "metadata": {
        "id": "lwfwe73ikcwX"
      }
    },
    {
      "cell_type": "code",
      "source": [
        "w = torch.tensor(2.0, requires_grad = True)\n",
        "y = w**2\n",
        "z = 10*y +25\n",
        "z.backward() # 미분해줌 \n",
        "w.grad # 20*w (w = 2로 위에서 설정해 줬음)"
      ],
      "metadata": {
        "colab": {
          "base_uri": "https://localhost:8080/"
        },
        "id": "7q0lkgUIj2Rg",
        "outputId": "9da64682-d19e-40ab-8a63-8d3f13ed939a"
      },
      "execution_count": 18,
      "outputs": [
        {
          "output_type": "execute_result",
          "data": {
            "text/plain": [
              "tensor(40.)"
            ]
          },
          "metadata": {},
          "execution_count": 18
        }
      ]
    },
    {
      "cell_type": "code",
      "source": [
        "# 편미분\n",
        "a = torch.tensor([2., 3.,], requires_grad=True)\n",
        "b = torch.tensor([6., 4.,], requires_grad=True)\n",
        "Q = 3*a**3 - b**2\n",
        "external_grad = torch.tensor([1., 1.,]) # 미분하는 값이 2개기 때문에 크기를 잡아준 것\n",
        "Q.backward(external_grad)\n",
        "\n",
        "a.grad # 미분했을 때의 값"
      ],
      "metadata": {
        "colab": {
          "base_uri": "https://localhost:8080/"
        },
        "id": "XlvDuNQDlHzm",
        "outputId": "1eea4a03-d431-4c3c-e77d-1bd7d1ce8dce"
      },
      "execution_count": 19,
      "outputs": [
        {
          "output_type": "execute_result",
          "data": {
            "text/plain": [
              "tensor([36., 81.])"
            ]
          },
          "metadata": {},
          "execution_count": 19
        }
      ]
    },
    {
      "cell_type": "code",
      "source": [
        "b.grad"
      ],
      "metadata": {
        "colab": {
          "base_uri": "https://localhost:8080/"
        },
        "id": "Hi_iwUv-mus6",
        "outputId": "cb88e9e0-39dc-46b9-d216-b86af9f91013"
      },
      "execution_count": 20,
      "outputs": [
        {
          "output_type": "execute_result",
          "data": {
            "text/plain": [
              "tensor([-12.,  -8.])"
            ]
          },
          "metadata": {},
          "execution_count": 20
        }
      ]
    },
    {
      "cell_type": "code",
      "source": [],
      "metadata": {
        "id": "1X32Ju1Bmx_Q"
      },
      "execution_count": null,
      "outputs": []
    }
  ]
}