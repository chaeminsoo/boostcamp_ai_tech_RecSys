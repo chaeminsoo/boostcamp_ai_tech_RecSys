{
  "cells": [
    {
      "cell_type": "markdown",
      "metadata": {
        "id": "view-in-github",
        "colab_type": "text"
      },
      "source": [
        "<a href=\"https://colab.research.google.com/github/chaeminsoo/boostcamp_ai_tech_RecSys/blob/main/pytorch_4.ipynb\" target=\"_parent\"><img src=\"https://colab.research.google.com/assets/colab-badge.svg\" alt=\"Open In Colab\"/></a>"
      ]
    },
    {
      "cell_type": "markdown",
      "metadata": {
        "id": "NsgbmKUjl5f6"
      },
      "source": [
        "## Tensor ve Parameter"
      ]
    },
    {
      "cell_type": "markdown",
      "metadata": {
        "id": "zfNp9pZWbVkF"
      },
      "source": [
        "[![Open In Colab](https://colab.research.google.com/assets/colab-badge.svg)](https://colab.research.google.com/github/BoostcampAITech/lecture-note-python-basics-for-ai/blob/main/codes/pytorch/07_torch-study/autograd_and_optimizer.ipynb)"
      ]
    },
    {
      "cell_type": "code",
      "execution_count": 2,
      "metadata": {
        "id": "OvcvXA0ol5f8"
      },
      "outputs": [],
      "source": [
        "import torch\n",
        "from torch import nn\n",
        "from torch import Tensor\n"
      ]
    },
    {
      "cell_type": "code",
      "execution_count": 3,
      "metadata": {
        "id": "w8xVd3-Dl5f-"
      },
      "outputs": [],
      "source": [
        "class MyLiner(nn.Module):\n",
        "    def __init__(self, in_features, out_features, bias=True):\n",
        "        super().__init__()\n",
        "        self.in_features = in_features\n",
        "        self.out_features = out_features\n",
        "        \n",
        "        self.weights = nn.Parameter(\n",
        "                torch.randn(in_features, out_features))\n",
        "        \n",
        "        self.bias = nn.Parameter(torch.randn(out_features))\n",
        "\n",
        "    def forward(self, x : Tensor):\n",
        "        return x @ self.weights + self.bias"
      ]
    },
    {
      "cell_type": "code",
      "execution_count": 4,
      "metadata": {
        "id": "_YLfgvhgl5f-"
      },
      "outputs": [],
      "source": [
        "x = torch.randn(5, 7) # 데이터가 5개 피처가 7개"
      ]
    },
    {
      "cell_type": "code",
      "execution_count": 5,
      "metadata": {
        "colab": {
          "base_uri": "https://localhost:8080/"
        },
        "id": "yRMOGgPA0eyn",
        "outputId": "59c43204-72ac-4b45-d84b-8e388278c40d"
      },
      "outputs": [
        {
          "output_type": "execute_result",
          "data": {
            "text/plain": [
              "tensor([[ 0.2979, -0.3466, -0.2035, -1.3492,  0.1983,  0.3070, -0.4145],\n",
              "        [-1.7926,  0.2922, -1.4049,  0.2044,  1.8022,  1.0958, -0.2031],\n",
              "        [-0.6443, -1.5590, -0.2039, -0.3167,  0.7361, -0.6720,  0.2745],\n",
              "        [-1.4062,  0.8538, -0.2221,  0.7283, -0.7352,  1.7294, -1.0445],\n",
              "        [ 0.6542, -0.6157,  0.4630,  0.7790, -0.2415, -0.1630,  1.3742]])"
            ]
          },
          "metadata": {},
          "execution_count": 5
        }
      ],
      "source": [
        "x"
      ]
    },
    {
      "cell_type": "code",
      "execution_count": 6,
      "metadata": {
        "colab": {
          "base_uri": "https://localhost:8080/"
        },
        "id": "q_gKNtCGl5f_",
        "outputId": "3cf9223e-919d-4ec8-e4e3-25a4d87f53f1"
      },
      "outputs": [
        {
          "output_type": "execute_result",
          "data": {
            "text/plain": [
              "torch.Size([5, 12])"
            ]
          },
          "metadata": {},
          "execution_count": 6
        }
      ],
      "source": [
        "layer = MyLiner(7, 12) # 피처가 12개고 데이터가 5개 인것으로 바꾼다\n",
        "layer(x).shape"
      ]
    },
    {
      "cell_type": "code",
      "execution_count": 6,
      "metadata": {
        "id": "_-HjPZVL0ike"
      },
      "outputs": [],
      "source": []
    },
    {
      "cell_type": "code",
      "execution_count": 7,
      "metadata": {
        "colab": {
          "base_uri": "https://localhost:8080/"
        },
        "id": "x1UHDx9bl5gA",
        "outputId": "021b9d68-4d7c-4a06-fedb-db6638815e5e"
      },
      "outputs": [
        {
          "output_type": "stream",
          "name": "stdout",
          "text": [
            "Parameter containing:\n",
            "tensor([[ 0.1385,  0.3646, -0.4760,  1.7120, -0.2183, -2.2956, -0.8972, -3.7296,\n",
            "          0.0431, -1.2319, -0.7483, -0.4511],\n",
            "        [-3.4815,  0.0243,  1.4467, -0.6774,  0.8195, -1.0126,  1.8665,  0.4535,\n",
            "         -1.6475,  0.5674, -0.6226, -0.7797],\n",
            "        [ 0.3907, -0.6592, -0.6256, -0.4991,  0.5354,  1.6129, -0.2756, -0.0518,\n",
            "         -0.1354, -0.6626,  0.3600, -1.0059],\n",
            "        [-0.3798, -0.6648, -0.5053,  0.0853,  0.7127,  0.2019, -2.6615, -0.7533,\n",
            "         -0.8616, -1.1468,  0.3612,  0.8098],\n",
            "        [ 0.3069,  1.1770,  0.7894, -1.7121,  0.3207,  1.3272, -1.5812,  0.1045,\n",
            "         -0.0078, -0.8288, -0.5420, -0.5301],\n",
            "        [ 0.1900, -0.3330,  0.6672,  0.2696,  0.7713, -0.8516, -0.9969,  1.9930,\n",
            "          2.5018,  0.3577,  2.5743, -0.0329],\n",
            "        [ 0.1055, -0.2236, -1.4014, -1.0200, -0.0295, -1.0649, -0.4549, -1.8797,\n",
            "          0.2309,  0.3897,  1.0403,  0.3038]], requires_grad=True)\n",
            "Parameter containing:\n",
            "tensor([-0.8774, -0.7467, -0.3821,  0.0569,  0.0377,  0.5852, -1.8304, -0.0062,\n",
            "        -0.1633, -2.1795,  0.4810,  0.3359], requires_grad=True)\n"
          ]
        }
      ],
      "source": [
        "for value in layer.parameters():\n",
        "    print(value)"
      ]
    },
    {
      "cell_type": "markdown",
      "source": [
        "parameters는 gradiant의 대상이 된다 (requires_grad=True)\n",
        "\n",
        "backwward 때 미분이 일어남"
      ],
      "metadata": {
        "id": "zV-XTyDdQQZY"
      }
    },
    {
      "cell_type": "markdown",
      "source": [
        " 아래의 코드는 nn.Parameter를 이용하지 않고 Tensor로 선언한 경우이다\n"
      ],
      "metadata": {
        "id": "gwcKDNFkQtH_"
      }
    },
    {
      "cell_type": "code",
      "execution_count": 8,
      "metadata": {
        "colab": {
          "base_uri": "https://localhost:8080/"
        },
        "id": "SpGBPlWKl5gA",
        "outputId": "72d1c737-8c55-42fb-8a66-848aabd003f0"
      },
      "outputs": [
        {
          "output_type": "stream",
          "name": "stdout",
          "text": [
            "tensor([[-0.7560,  0.6116, -0.0259,  0.5844, -1.2217,  0.8945, -2.6959, -2.1410,\n",
            "          1.1443,  2.0769, -0.7881,  0.0423],\n",
            "        [-2.5800,  1.0005, -1.0566,  0.2104,  1.6498, -3.0983,  5.0600, -0.7332,\n",
            "         -2.4014,  4.0442, -1.5830, -4.5391],\n",
            "        [-1.4124,  2.2745, -0.4219, -0.0619,  4.5408, -1.8246,  0.4703, -1.7641,\n",
            "          1.9090,  2.5025,  4.4196,  0.6721],\n",
            "        [ 2.1947, -4.4609,  1.7449, -2.7096, -0.9825,  0.8620,  5.1858, -0.5452,\n",
            "          0.4297,  2.1711, -8.6450, -0.5598],\n",
            "        [ 1.3655,  3.4207, -1.1669,  0.1025,  3.2206,  1.2189, -0.4571, -0.4481,\n",
            "          2.7177,  1.7500,  0.0900,  4.8837]])\n",
            "\n",
            "torch.Size([5, 12])\n"
          ]
        }
      ],
      "source": [
        "class MyLiner(nn.Module):\n",
        "    def __init__(self, in_features, out_features, bias=True):\n",
        "        super().__init__()\n",
        "        self.in_features = in_features\n",
        "        self.out_features = out_features\n",
        "        \n",
        "        self.weights = Tensor(\n",
        "                torch.randn(in_features, out_features))\n",
        "        \n",
        "        self.bias = Tensor(torch.randn(out_features))\n",
        "\n",
        "    def forward(self, x : Tensor):\n",
        "        return x @ self.weights + self.bias\n",
        "\n",
        "\n",
        "layer = MyLiner(7, 12)\n",
        "print(layer(x))\n",
        "print()\n",
        "print(layer(x).shape)"
      ]
    },
    {
      "cell_type": "code",
      "execution_count": 9,
      "metadata": {
        "id": "GUezLINrl5gB"
      },
      "outputs": [],
      "source": [
        "for value in layer.parameters():\n",
        "    print(value)"
      ]
    },
    {
      "cell_type": "markdown",
      "source": [
        "parameters를 해도 아무것도 나오지 않는다.\n",
        "\n",
        "Tensor로 해서 backward의 대상이 되는게 없기 때문이다."
      ],
      "metadata": {
        "id": "kcaj-xQwQ81F"
      }
    },
    {
      "cell_type": "markdown",
      "metadata": {
        "id": "aUKvDp-ll5gB"
      },
      "source": [
        "## AutoGrad for Linear Regression\n",
        "https://towardsdatascience.com/linear-regression-with-pytorch-eb6dedead817"
      ]
    },
    {
      "cell_type": "markdown",
      "metadata": {
        "id": "QjjiARk2l5gC"
      },
      "source": [
        "$$ y=2x+1 $$"
      ]
    },
    {
      "cell_type": "code",
      "execution_count": 10,
      "metadata": {
        "id": "45sSIbtPl5gC"
      },
      "outputs": [],
      "source": [
        "import numpy as np\n",
        "# create dummy data for training\n",
        "x_values = [i for i in range(11)]\n",
        "x_train = np.array(x_values, dtype=np.float32)\n",
        "x_train = x_train.reshape(-1, 1)\n",
        "\n",
        "y_values = [2*i + 1 for i in x_values]\n",
        "y_train = np.array(y_values, dtype=np.float32)\n",
        "y_train = y_train.reshape(-1, 1)"
      ]
    },
    {
      "cell_type": "code",
      "execution_count": 11,
      "metadata": {
        "colab": {
          "base_uri": "https://localhost:8080/"
        },
        "id": "5d5GyTBi1mNb",
        "outputId": "c3334944-3321-401a-9c50-110adcd8e026"
      },
      "outputs": [
        {
          "output_type": "execute_result",
          "data": {
            "text/plain": [
              "array([[ 0.],\n",
              "       [ 1.],\n",
              "       [ 2.],\n",
              "       [ 3.],\n",
              "       [ 4.],\n",
              "       [ 5.],\n",
              "       [ 6.],\n",
              "       [ 7.],\n",
              "       [ 8.],\n",
              "       [ 9.],\n",
              "       [10.]], dtype=float32)"
            ]
          },
          "metadata": {},
          "execution_count": 11
        }
      ],
      "source": [
        "x_train"
      ]
    },
    {
      "cell_type": "code",
      "execution_count": 12,
      "metadata": {
        "colab": {
          "base_uri": "https://localhost:8080/"
        },
        "id": "UzQc5jRFl5gC",
        "outputId": "7a744f8e-c6b4-42c9-f059-0986d293c85b"
      },
      "outputs": [
        {
          "output_type": "execute_result",
          "data": {
            "text/plain": [
              "array([[ 1.],\n",
              "       [ 3.],\n",
              "       [ 5.],\n",
              "       [ 7.],\n",
              "       [ 9.],\n",
              "       [11.],\n",
              "       [13.],\n",
              "       [15.],\n",
              "       [17.],\n",
              "       [19.],\n",
              "       [21.]], dtype=float32)"
            ]
          },
          "metadata": {},
          "execution_count": 12
        }
      ],
      "source": [
        "y_train"
      ]
    },
    {
      "cell_type": "code",
      "execution_count": 13,
      "metadata": {
        "id": "PHcKjU23l5gD"
      },
      "outputs": [],
      "source": [
        "import torch\n",
        "from torch.autograd import Variable\n",
        "class LinearRegression(torch.nn.Module):\n",
        "    def __init__(self, inputSize, outputSize):\n",
        "        super(LinearRegression, self).__init__()\n",
        "        self.linear = torch.nn.Linear(inputSize, outputSize) # torch.nn.Linear: Xw+b를 pytorch 내부에서 이미 구현해준 모델\n",
        "\n",
        "    def forward(self, x):\n",
        "        out = self.linear(x)\n",
        "        return out"
      ]
    },
    {
      "cell_type": "code",
      "execution_count": 14,
      "metadata": {
        "id": "CT7_Izp-l5gD"
      },
      "outputs": [],
      "source": [
        "inputDim = 1        # takes variable 'x' \n",
        "outputDim = 1       # takes variable 'y'\n",
        "learningRate = 0.01 \n",
        "epochs = 100\n",
        "\n",
        "model = LinearRegression(inputDim, outputDim)\n",
        "##### For GPU #######\n",
        "if torch.cuda.is_available():\n",
        "    model.cuda()"
      ]
    },
    {
      "cell_type": "code",
      "execution_count": 15,
      "metadata": {
        "id": "Ln6AarOul5gD"
      },
      "outputs": [],
      "source": [
        "criterion = torch.nn.MSELoss() \n",
        "optimizer = torch.optim.SGD(model.parameters(), lr=learningRate)"
      ]
    },
    {
      "cell_type": "code",
      "execution_count": 16,
      "metadata": {
        "colab": {
          "base_uri": "https://localhost:8080/"
        },
        "id": "MdsVX6wjl5gD",
        "outputId": "75a351dc-6505-46a4-e502-9b740e1969d5"
      },
      "outputs": [
        {
          "output_type": "stream",
          "name": "stdout",
          "text": [
            "tensor(92.8347, device='cuda:0', grad_fn=<MseLossBackward0>)\n",
            "epoch 0, loss 92.8347396850586\n",
            "tensor(7.5991, device='cuda:0', grad_fn=<MseLossBackward0>)\n",
            "epoch 1, loss 7.599100589752197\n",
            "tensor(0.6464, device='cuda:0', grad_fn=<MseLossBackward0>)\n",
            "epoch 2, loss 0.6463988423347473\n",
            "tensor(0.0790, device='cuda:0', grad_fn=<MseLossBackward0>)\n",
            "epoch 3, loss 0.07899254560470581\n",
            "tensor(0.0324, device='cuda:0', grad_fn=<MseLossBackward0>)\n",
            "epoch 4, loss 0.032417602837085724\n",
            "tensor(0.0283, device='cuda:0', grad_fn=<MseLossBackward0>)\n",
            "epoch 5, loss 0.028328683227300644\n",
            "tensor(0.0277, device='cuda:0', grad_fn=<MseLossBackward0>)\n",
            "epoch 6, loss 0.027708372101187706\n",
            "tensor(0.0274, device='cuda:0', grad_fn=<MseLossBackward0>)\n",
            "epoch 7, loss 0.027374116703867912\n",
            "tensor(0.0271, device='cuda:0', grad_fn=<MseLossBackward0>)\n",
            "epoch 8, loss 0.027066443115472794\n",
            "tensor(0.0268, device='cuda:0', grad_fn=<MseLossBackward0>)\n",
            "epoch 9, loss 0.026764046400785446\n",
            "tensor(0.0265, device='cuda:0', grad_fn=<MseLossBackward0>)\n",
            "epoch 10, loss 0.026465121656656265\n",
            "tensor(0.0262, device='cuda:0', grad_fn=<MseLossBackward0>)\n",
            "epoch 11, loss 0.026169613003730774\n",
            "tensor(0.0259, device='cuda:0', grad_fn=<MseLossBackward0>)\n",
            "epoch 12, loss 0.025877365842461586\n",
            "tensor(0.0256, device='cuda:0', grad_fn=<MseLossBackward0>)\n",
            "epoch 13, loss 0.025588393211364746\n",
            "tensor(0.0253, device='cuda:0', grad_fn=<MseLossBackward0>)\n",
            "epoch 14, loss 0.025302670896053314\n",
            "tensor(0.0250, device='cuda:0', grad_fn=<MseLossBackward0>)\n",
            "epoch 15, loss 0.025020115077495575\n",
            "tensor(0.0247, device='cuda:0', grad_fn=<MseLossBackward0>)\n",
            "epoch 16, loss 0.0247406754642725\n",
            "tensor(0.0245, device='cuda:0', grad_fn=<MseLossBackward0>)\n",
            "epoch 17, loss 0.02446443773806095\n",
            "tensor(0.0242, device='cuda:0', grad_fn=<MseLossBackward0>)\n",
            "epoch 18, loss 0.024191251024603844\n",
            "tensor(0.0239, device='cuda:0', grad_fn=<MseLossBackward0>)\n",
            "epoch 19, loss 0.02392110601067543\n",
            "tensor(0.0237, device='cuda:0', grad_fn=<MseLossBackward0>)\n",
            "epoch 20, loss 0.023654012009501457\n",
            "tensor(0.0234, device='cuda:0', grad_fn=<MseLossBackward0>)\n",
            "epoch 21, loss 0.02338983118534088\n",
            "tensor(0.0231, device='cuda:0', grad_fn=<MseLossBackward0>)\n",
            "epoch 22, loss 0.023128638043999672\n",
            "tensor(0.0229, device='cuda:0', grad_fn=<MseLossBackward0>)\n",
            "epoch 23, loss 0.02287040837109089\n",
            "tensor(0.0226, device='cuda:0', grad_fn=<MseLossBackward0>)\n",
            "epoch 24, loss 0.022615015506744385\n",
            "tensor(0.0224, device='cuda:0', grad_fn=<MseLossBackward0>)\n",
            "epoch 25, loss 0.022362448275089264\n",
            "tensor(0.0221, device='cuda:0', grad_fn=<MseLossBackward0>)\n",
            "epoch 26, loss 0.022112706676125526\n",
            "tensor(0.0219, device='cuda:0', grad_fn=<MseLossBackward0>)\n",
            "epoch 27, loss 0.021865827962756157\n",
            "tensor(0.0216, device='cuda:0', grad_fn=<MseLossBackward0>)\n",
            "epoch 28, loss 0.02162165753543377\n",
            "tensor(0.0214, device='cuda:0', grad_fn=<MseLossBackward0>)\n",
            "epoch 29, loss 0.02138020098209381\n",
            "tensor(0.0211, device='cuda:0', grad_fn=<MseLossBackward0>)\n",
            "epoch 30, loss 0.02114148437976837\n",
            "tensor(0.0209, device='cuda:0', grad_fn=<MseLossBackward0>)\n",
            "epoch 31, loss 0.0209053885191679\n",
            "tensor(0.0207, device='cuda:0', grad_fn=<MseLossBackward0>)\n",
            "epoch 32, loss 0.020671894773840904\n",
            "tensor(0.0204, device='cuda:0', grad_fn=<MseLossBackward0>)\n",
            "epoch 33, loss 0.02044110931456089\n",
            "tensor(0.0202, device='cuda:0', grad_fn=<MseLossBackward0>)\n",
            "epoch 34, loss 0.02021283283829689\n",
            "tensor(0.0200, device='cuda:0', grad_fn=<MseLossBackward0>)\n",
            "epoch 35, loss 0.019987063482403755\n",
            "tensor(0.0198, device='cuda:0', grad_fn=<MseLossBackward0>)\n",
            "epoch 36, loss 0.019763890653848648\n",
            "tensor(0.0195, device='cuda:0', grad_fn=<MseLossBackward0>)\n",
            "epoch 37, loss 0.019543210044503212\n",
            "tensor(0.0193, device='cuda:0', grad_fn=<MseLossBackward0>)\n",
            "epoch 38, loss 0.019324954599142075\n",
            "tensor(0.0191, device='cuda:0', grad_fn=<MseLossBackward0>)\n",
            "epoch 39, loss 0.019109133630990982\n",
            "tensor(0.0189, device='cuda:0', grad_fn=<MseLossBackward0>)\n",
            "epoch 40, loss 0.018895747140049934\n",
            "tensor(0.0187, device='cuda:0', grad_fn=<MseLossBackward0>)\n",
            "epoch 41, loss 0.018684733659029007\n",
            "tensor(0.0185, device='cuda:0', grad_fn=<MseLossBackward0>)\n",
            "epoch 42, loss 0.018476102501153946\n",
            "tensor(0.0183, device='cuda:0', grad_fn=<MseLossBackward0>)\n",
            "epoch 43, loss 0.01826981082558632\n",
            "tensor(0.0181, device='cuda:0', grad_fn=<MseLossBackward0>)\n",
            "epoch 44, loss 0.01806577853858471\n",
            "tensor(0.0179, device='cuda:0', grad_fn=<MseLossBackward0>)\n",
            "epoch 45, loss 0.01786404475569725\n",
            "tensor(0.0177, device='cuda:0', grad_fn=<MseLossBackward0>)\n",
            "epoch 46, loss 0.017664531245827675\n",
            "tensor(0.0175, device='cuda:0', grad_fn=<MseLossBackward0>)\n",
            "epoch 47, loss 0.017467306926846504\n",
            "tensor(0.0173, device='cuda:0', grad_fn=<MseLossBackward0>)\n",
            "epoch 48, loss 0.01727224886417389\n",
            "tensor(0.0171, device='cuda:0', grad_fn=<MseLossBackward0>)\n",
            "epoch 49, loss 0.01707935519516468\n",
            "tensor(0.0169, device='cuda:0', grad_fn=<MseLossBackward0>)\n",
            "epoch 50, loss 0.016888616606593132\n",
            "tensor(0.0167, device='cuda:0', grad_fn=<MseLossBackward0>)\n",
            "epoch 51, loss 0.016700023785233498\n",
            "tensor(0.0165, device='cuda:0', grad_fn=<MseLossBackward0>)\n",
            "epoch 52, loss 0.016513578593730927\n",
            "tensor(0.0163, device='cuda:0', grad_fn=<MseLossBackward0>)\n",
            "epoch 53, loss 0.016329143196344376\n",
            "tensor(0.0161, device='cuda:0', grad_fn=<MseLossBackward0>)\n",
            "epoch 54, loss 0.01614680327475071\n",
            "tensor(0.0160, device='cuda:0', grad_fn=<MseLossBackward0>)\n",
            "epoch 55, loss 0.015966523438692093\n",
            "tensor(0.0158, device='cuda:0', grad_fn=<MseLossBackward0>)\n",
            "epoch 56, loss 0.015788201242685318\n",
            "tensor(0.0156, device='cuda:0', grad_fn=<MseLossBackward0>)\n",
            "epoch 57, loss 0.015611901879310608\n",
            "tensor(0.0154, device='cuda:0', grad_fn=<MseLossBackward0>)\n",
            "epoch 58, loss 0.01543757226318121\n",
            "tensor(0.0153, device='cuda:0', grad_fn=<MseLossBackward0>)\n",
            "epoch 59, loss 0.015265172347426414\n",
            "tensor(0.0151, device='cuda:0', grad_fn=<MseLossBackward0>)\n",
            "epoch 60, loss 0.015094717033207417\n",
            "tensor(0.0149, device='cuda:0', grad_fn=<MseLossBackward0>)\n",
            "epoch 61, loss 0.014926138333976269\n",
            "tensor(0.0148, device='cuda:0', grad_fn=<MseLossBackward0>)\n",
            "epoch 62, loss 0.014759461395442486\n",
            "tensor(0.0146, device='cuda:0', grad_fn=<MseLossBackward0>)\n",
            "epoch 63, loss 0.014594602398574352\n",
            "tensor(0.0144, device='cuda:0', grad_fn=<MseLossBackward0>)\n",
            "epoch 64, loss 0.014431670308113098\n",
            "tensor(0.0143, device='cuda:0', grad_fn=<MseLossBackward0>)\n",
            "epoch 65, loss 0.014270546846091747\n",
            "tensor(0.0141, device='cuda:0', grad_fn=<MseLossBackward0>)\n",
            "epoch 66, loss 0.014111202210187912\n",
            "tensor(0.0140, device='cuda:0', grad_fn=<MseLossBackward0>)\n",
            "epoch 67, loss 0.013953596353530884\n",
            "tensor(0.0138, device='cuda:0', grad_fn=<MseLossBackward0>)\n",
            "epoch 68, loss 0.013797780498862267\n",
            "tensor(0.0136, device='cuda:0', grad_fn=<MseLossBackward0>)\n",
            "epoch 69, loss 0.013643701560795307\n",
            "tensor(0.0135, device='cuda:0', grad_fn=<MseLossBackward0>)\n",
            "epoch 70, loss 0.013491343706846237\n",
            "tensor(0.0133, device='cuda:0', grad_fn=<MseLossBackward0>)\n",
            "epoch 71, loss 0.013340679928660393\n",
            "tensor(0.0132, device='cuda:0', grad_fn=<MseLossBackward0>)\n",
            "epoch 72, loss 0.013191677629947662\n",
            "tensor(0.0130, device='cuda:0', grad_fn=<MseLossBackward0>)\n",
            "epoch 73, loss 0.01304441224783659\n",
            "tensor(0.0129, device='cuda:0', grad_fn=<MseLossBackward0>)\n",
            "epoch 74, loss 0.012898738496005535\n",
            "tensor(0.0128, device='cuda:0', grad_fn=<MseLossBackward0>)\n",
            "epoch 75, loss 0.012754695490002632\n",
            "tensor(0.0126, device='cuda:0', grad_fn=<MseLossBackward0>)\n",
            "epoch 76, loss 0.01261227298527956\n",
            "tensor(0.0125, device='cuda:0', grad_fn=<MseLossBackward0>)\n",
            "epoch 77, loss 0.012471463531255722\n",
            "tensor(0.0123, device='cuda:0', grad_fn=<MseLossBackward0>)\n",
            "epoch 78, loss 0.012332138605415821\n",
            "tensor(0.0122, device='cuda:0', grad_fn=<MseLossBackward0>)\n",
            "epoch 79, loss 0.012194447219371796\n",
            "tensor(0.0121, device='cuda:0', grad_fn=<MseLossBackward0>)\n",
            "epoch 80, loss 0.012058265507221222\n",
            "tensor(0.0119, device='cuda:0', grad_fn=<MseLossBackward0>)\n",
            "epoch 81, loss 0.011923622339963913\n",
            "tensor(0.0118, device='cuda:0', grad_fn=<MseLossBackward0>)\n",
            "epoch 82, loss 0.011790468357503414\n",
            "tensor(0.0117, device='cuda:0', grad_fn=<MseLossBackward0>)\n",
            "epoch 83, loss 0.011658814735710621\n",
            "tensor(0.0115, device='cuda:0', grad_fn=<MseLossBackward0>)\n",
            "epoch 84, loss 0.01152859814465046\n",
            "tensor(0.0114, device='cuda:0', grad_fn=<MseLossBackward0>)\n",
            "epoch 85, loss 0.011399870738387108\n",
            "tensor(0.0113, device='cuda:0', grad_fn=<MseLossBackward0>)\n",
            "epoch 86, loss 0.011272561736404896\n",
            "tensor(0.0111, device='cuda:0', grad_fn=<MseLossBackward0>)\n",
            "epoch 87, loss 0.011146711185574532\n",
            "tensor(0.0110, device='cuda:0', grad_fn=<MseLossBackward0>)\n",
            "epoch 88, loss 0.011022230610251427\n",
            "tensor(0.0109, device='cuda:0', grad_fn=<MseLossBackward0>)\n",
            "epoch 89, loss 0.010899136774241924\n",
            "tensor(0.0108, device='cuda:0', grad_fn=<MseLossBackward0>)\n",
            "epoch 90, loss 0.010777433402836323\n",
            "tensor(0.0107, device='cuda:0', grad_fn=<MseLossBackward0>)\n",
            "epoch 91, loss 0.010657083243131638\n",
            "tensor(0.0105, device='cuda:0', grad_fn=<MseLossBackward0>)\n",
            "epoch 92, loss 0.01053810864686966\n",
            "tensor(0.0104, device='cuda:0', grad_fn=<MseLossBackward0>)\n",
            "epoch 93, loss 0.010420386679470539\n",
            "tensor(0.0103, device='cuda:0', grad_fn=<MseLossBackward0>)\n",
            "epoch 94, loss 0.010304038412868977\n",
            "tensor(0.0102, device='cuda:0', grad_fn=<MseLossBackward0>)\n",
            "epoch 95, loss 0.01018896047025919\n",
            "tensor(0.0101, device='cuda:0', grad_fn=<MseLossBackward0>)\n",
            "epoch 96, loss 0.010075231082737446\n",
            "tensor(0.0100, device='cuda:0', grad_fn=<MseLossBackward0>)\n",
            "epoch 97, loss 0.00996266771107912\n",
            "tensor(0.0099, device='cuda:0', grad_fn=<MseLossBackward0>)\n",
            "epoch 98, loss 0.009851420298218727\n",
            "tensor(0.0097, device='cuda:0', grad_fn=<MseLossBackward0>)\n",
            "epoch 99, loss 0.009741437621414661\n"
          ]
        }
      ],
      "source": [
        "for epoch in range(epochs):\n",
        "    # Converting inputs and labels to Variable\n",
        "    if torch.cuda.is_available():\n",
        "        inputs = Variable(torch.from_numpy(x_train).cuda())\n",
        "        labels = Variable(torch.from_numpy(y_train).cuda())\n",
        "    else:\n",
        "        inputs = Variable(torch.from_numpy(x_train))\n",
        "        labels = Variable(torch.from_numpy(y_train))\n",
        "\n",
        "    # Clear gradient buffers because we don't want any gradient from previous epoch to carry forward, dont want to cummulate gradients\n",
        "    optimizer.zero_grad()\n",
        "\n",
        "    # get output from the model, given the inputs\n",
        "    outputs = model(inputs)\n",
        "\n",
        "    # get loss for the predicted output\n",
        "    loss = criterion(outputs, labels)\n",
        "    print(loss)\n",
        "    # get gradients w.r.t to parameters\n",
        "    loss.backward()\n",
        "\n",
        "    # update parameters\n",
        "    optimizer.step()\n",
        "\n",
        "    print('epoch {}, loss {}'.format(epoch, loss.item()))"
      ]
    },
    {
      "cell_type": "code",
      "execution_count": 17,
      "metadata": {
        "colab": {
          "base_uri": "https://localhost:8080/"
        },
        "id": "pVP_zgSnl5gE",
        "outputId": "f0548c50-119c-41f1-dd15-bf0c79c1e55d"
      },
      "outputs": [
        {
          "output_type": "stream",
          "name": "stdout",
          "text": [
            "[[ 0.8164005]\n",
            " [ 2.8428404]\n",
            " [ 4.8692803]\n",
            " [ 6.8957205]\n",
            " [ 8.92216  ]\n",
            " [10.9486   ]\n",
            " [12.97504  ]\n",
            " [15.00148  ]\n",
            " [17.02792  ]\n",
            " [19.05436  ]\n",
            " [21.0808   ]]\n"
          ]
        }
      ],
      "source": [
        "with torch.no_grad(): # we don't need gradients in the testing phase\n",
        "    if torch.cuda.is_available():\n",
        "        predicted = model(Variable(torch.from_numpy(x_train).cuda())).cpu().data.numpy()\n",
        "    else:\n",
        "        predicted = model(Variable(torch.from_numpy(x_train))).data.numpy()\n",
        "    print(predicted)\n"
      ]
    },
    {
      "cell_type": "code",
      "execution_count": 18,
      "metadata": {
        "colab": {
          "base_uri": "https://localhost:8080/"
        },
        "id": "hFzE8SPl2XrD",
        "outputId": "87f12f06-64f8-43b3-be19-e24ba56c5f4e"
      },
      "outputs": [
        {
          "output_type": "execute_result",
          "data": {
            "text/plain": [
              "array([[ 1.],\n",
              "       [ 3.],\n",
              "       [ 5.],\n",
              "       [ 7.],\n",
              "       [ 9.],\n",
              "       [11.],\n",
              "       [13.],\n",
              "       [15.],\n",
              "       [17.],\n",
              "       [19.],\n",
              "       [21.]], dtype=float32)"
            ]
          },
          "metadata": {},
          "execution_count": 18
        }
      ],
      "source": [
        "y_train"
      ]
    },
    {
      "cell_type": "code",
      "execution_count": 19,
      "metadata": {
        "colab": {
          "base_uri": "https://localhost:8080/"
        },
        "id": "0VyqD7_Gl5gE",
        "outputId": "e3dea26b-7575-4faa-989c-298d8de65722"
      },
      "outputs": [
        {
          "output_type": "stream",
          "name": "stdout",
          "text": [
            "None tensor([[2.0264]], device='cuda:0')\n",
            "None tensor([0.8164], device='cuda:0')\n"
          ]
        }
      ],
      "source": [
        "for p in model.parameters():\n",
        "    if p.requires_grad: \n",
        "         print(p.name, p.data)"
      ]
    },
    {
      "cell_type": "markdown",
      "metadata": {
        "id": "ZMDg_PfKl5gE"
      },
      "source": [
        "## Logistic Regression"
      ]
    },
    {
      "cell_type": "code",
      "execution_count": 20,
      "metadata": {
        "colab": {
          "base_uri": "https://localhost:8080/"
        },
        "id": "Ja93YiFXl5gF",
        "outputId": "cfa3a760-3d12-4bc0-e85c-858461db257f"
      },
      "outputs": [
        {
          "output_type": "stream",
          "name": "stdout",
          "text": [
            "1.12.1+cu113\n"
          ]
        }
      ],
      "source": [
        "import torch\n",
        "import torchvision\n",
        "import torch.nn as nn\n",
        "from torchvision import datasets, models, transforms\n",
        "import os\n",
        "import numpy as np\n",
        "import matplotlib.pyplot as plt\n",
        "\n",
        "%matplotlib inline\n",
        "\n",
        "## print out the pytorch version used (1.31 at the time of this tutorial)\n",
        "print(torch.__version__)"
      ]
    },
    {
      "cell_type": "code",
      "execution_count": 21,
      "metadata": {
        "colab": {
          "base_uri": "https://localhost:8080/"
        },
        "id": "bMsHz4lRl5gF",
        "outputId": "23618ce8-390b-43b3-f959-4ec5912f6225"
      },
      "outputs": [
        {
          "output_type": "stream",
          "name": "stdout",
          "text": [
            "cuda:0\n"
          ]
        }
      ],
      "source": [
        "## configuration to detect cuda or cpu\n",
        "device = torch.device(\"cuda:0\" if torch.cuda.is_available() else \"cpu\")\n",
        "print (device)"
      ]
    },
    {
      "cell_type": "code",
      "execution_count": 22,
      "metadata": {
        "id": "fAB05_tBl5gF"
      },
      "outputs": [],
      "source": [
        "DATA_PATH = \"https://download.pytorch.org/tutorial/hymenoptera_data.zip\""
      ]
    },
    {
      "cell_type": "code",
      "execution_count": 23,
      "metadata": {
        "id": "t2Y5eZWal5gG"
      },
      "outputs": [],
      "source": [
        "import urllib\n",
        "import os\n",
        "import shutil\n",
        "from zipfile import ZipFile\n",
        "\n",
        "\n",
        "urllib.request .urlretrieve(DATA_PATH, \"hymenoptera_data.zip\")\n",
        "\n",
        "\n",
        "\n",
        "with ZipFile(\"hymenoptera_data.zip\", 'r') as zipObj:\n",
        "   # Extract all the contents of zip file in current directory\n",
        "   zipObj.extractall()\n",
        "\n",
        "os.rename(\"hymenoptera_data\", \"data\")\n"
      ]
    },
    {
      "cell_type": "code",
      "execution_count": 24,
      "metadata": {
        "id": "pJH8jaQil5gG"
      },
      "outputs": [],
      "source": [
        "## configure root folder on your gdrive\n",
        "data_dir = \"./data\"\n",
        "\n",
        "## custom transformer to flatten the image tensors\n",
        "class ReshapeTransform:\n",
        "    def __init__(self, new_size):\n",
        "        self.new_size = new_size\n",
        "\n",
        "    def __call__(self, img):\n",
        "        result = torch.reshape(img, self.new_size)\n",
        "        return result\n",
        "\n",
        "## transformations used to standardize and normalize the datasets\n",
        "data_transforms = {\n",
        "    'train': transforms.Compose([\n",
        "        transforms.Resize(224),\n",
        "        transforms.CenterCrop(224),\n",
        "        transforms.ToTensor(),\n",
        "        ReshapeTransform((-1,)) # flattens the data\n",
        "    ]),\n",
        "    'val': transforms.Compose([\n",
        "        transforms.Resize(224),\n",
        "        transforms.CenterCrop(224),\n",
        "        transforms.ToTensor(),\n",
        "        ReshapeTransform((-1,)) # flattens the data\n",
        "    ]),\n",
        "}\n",
        "\n",
        "## load the correspoding folders\n",
        "image_datasets = {x: datasets.ImageFolder(os.path.join(data_dir, x),\n",
        "                                          data_transforms[x])\n",
        "                  for x in ['train', 'val']}\n",
        "\n",
        "## load the entire dataset; we are not using minibatches here\n",
        "train_dataset = torch.utils.data.DataLoader(image_datasets['train'],\n",
        "                                            batch_size=len(image_datasets['train']),\n",
        "                                            shuffle=True)\n",
        "test_dataset = torch.utils.data.DataLoader(image_datasets['val'],\n",
        "                                           batch_size=len(image_datasets['val']),\n",
        "                                           shuffle=True)"
      ]
    },
    {
      "cell_type": "code",
      "execution_count": 25,
      "metadata": {
        "colab": {
          "base_uri": "https://localhost:8080/",
          "height": 384
        },
        "id": "55VriLYpl5gH",
        "outputId": "0eb876e9-7301-440d-ab33-2d12d2f3b528"
      },
      "outputs": [
        {
          "output_type": "stream",
          "name": "stdout",
          "text": [
            "Dimension of image: torch.Size([244, 150528]) \n",
            " Dimension of labels torch.Size([244])\n"
          ]
        },
        {
          "output_type": "stream",
          "name": "stderr",
          "text": [
            "/usr/local/lib/python3.7/dist-packages/ipykernel_launcher.py:9: UserWarning: The use of `x.T` on tensors of dimension other than 2 to reverse their shape is deprecated and it will throw an error in a future release. Consider `x.mT` to transpose batches of matricesor `x.permute(*torch.arange(x.ndim - 1, -1, -1))` to reverse the dimensions of a tensor. (Triggered internally at  ../aten/src/ATen/native/TensorShape.cpp:2981.)\n",
            "  if __name__ == '__main__':\n"
          ]
        },
        {
          "output_type": "execute_result",
          "data": {
            "text/plain": [
              "<matplotlib.image.AxesImage at 0x7f8239564650>"
            ]
          },
          "metadata": {},
          "execution_count": 25
        },
        {
          "output_type": "display_data",
          "data": {
            "text/plain": [
              "<Figure size 432x288 with 1 Axes>"
            ],
            "image/png": "[encoded data removed]"
          },
          "metadata": {
            "needs_background": "light"
          }
        }
      ],
      "source": [
        "## load the entire dataset\n",
        "x, y = next(iter(train_dataset))\n",
        "\n",
        "## print one example\n",
        "dim = x.shape[1]\n",
        "print(\"Dimension of image:\", x.shape, \"\\n\", \n",
        "      \"Dimension of labels\", y.shape)\n",
        "\n",
        "plt.imshow(x[160].reshape(1, 3, 224, 224).squeeze().T.numpy())"
      ]
    },
    {
      "cell_type": "code",
      "execution_count": 26,
      "metadata": {
        "id": "HMThCUEjl5gH"
      },
      "outputs": [],
      "source": [
        "class LR(nn.Module):\n",
        "    def __init__(self, dim, lr=torch.scalar_tensor(0.01)):\n",
        "        super(LR, self).__init__()\n",
        "        # intialize parameters\n",
        "        self.w = torch.zeros(dim, 1, dtype=torch.float).to(device)\n",
        "        self.b = torch.scalar_tensor(0).to(device)\n",
        "        self.grads = {\"dw\": torch.zeros(dim, 1, dtype=torch.float).to(device),\n",
        "                      \"db\": torch.scalar_tensor(0).to(device)}\n",
        "        self.lr = lr.to(device)\n",
        "\n",
        "    def forward(self, x):\n",
        "        ## compute forward\n",
        "        z = torch.mm(self.w.T, x) + self.b\n",
        "        a = self.sigmoid(z)\n",
        "        return a\n",
        "\n",
        "    def sigmoid(self, z):\n",
        "        return 1/(1 + torch.exp(-z))\n",
        "\n",
        "    def backward(self, x, yhat, y):\n",
        "        ## compute backward\n",
        "        self.grads[\"dw\"] = (1/x.shape[1]) * torch.mm(x, (yhat - y).T)\n",
        "        self.grads[\"db\"] = (1/x.shape[1]) * torch.sum(yhat - y)\n",
        "    \n",
        "    def optimize(self):\n",
        "        ## optimization step\n",
        "        self.w = self.w - self.lr * self.grads[\"dw\"]\n",
        "        self.b = self.b - self.lr * self.grads[\"db\"]\n",
        "\n",
        "## utility functions\n",
        "def loss(yhat, y):\n",
        "    m = y.size()[1]\n",
        "    return -(1/m)* torch.sum(y*torch.log(yhat) + (1 - y)* torch.log(1-yhat))\n",
        "\n",
        "def predict(yhat, y):\n",
        "    y_prediction = torch.zeros(1, y.size()[1])\n",
        "    for i in range(yhat.size()[1]):\n",
        "        if yhat[0, i] <= 0.5:\n",
        "            y_prediction[0, i] = 0\n",
        "        else:\n",
        "            y_prediction[0, i] = 1\n",
        "    return 100 - torch.mean(torch.abs(y_prediction - y)) * 100"
      ]
    },
    {
      "cell_type": "code",
      "execution_count": 27,
      "metadata": {
        "colab": {
          "base_uri": "https://localhost:8080/"
        },
        "id": "gfulqH7Vl5gI",
        "outputId": "376a2993-ea43-4e18-cf04-4cd4e96cf30b"
      },
      "outputs": [
        {
          "output_type": "stream",
          "name": "stdout",
          "text": [
            "Cost:  tensor(0.6931)\n",
            "Accuracy:  tensor(50.4098)\n"
          ]
        }
      ],
      "source": [
        "## model pretesting\n",
        "x, y = next(iter(train_dataset))\n",
        "\n",
        "## flatten/transform the data\n",
        "x_flatten = x.T\n",
        "y = y.unsqueeze(0) \n",
        "\n",
        "## num_px is the dimension of the images\n",
        "dim = x_flatten.shape[0]\n",
        "\n",
        "## model instance\n",
        "model = LR(dim)\n",
        "model.to(device)\n",
        "yhat = model.forward(x_flatten.to(device))\n",
        "yhat = yhat.data.cpu()\n",
        "\n",
        "## calculate loss\n",
        "cost = loss(yhat, y)\n",
        "prediction = predict(yhat, y)\n",
        "print(\"Cost: \", cost)\n",
        "print(\"Accuracy: \", prediction)\n",
        "\n",
        "## backpropagate\n",
        "model.backward(x_flatten.to(device), yhat.to(device), y.to(device))\n",
        "model.optimize()"
      ]
    },
    {
      "cell_type": "code",
      "execution_count": 28,
      "metadata": {
        "colab": {
          "base_uri": "https://localhost:8080/"
        },
        "id": "yo_Cqg86l5gI",
        "outputId": "a833b1c6-da29-42e9-ccd2-c58bf269b71a"
      },
      "outputs": [
        {
          "output_type": "stream",
          "name": "stdout",
          "text": [
            "Cost after iteration 0: 0.6931472420692444 | Train Acc: 50.40983581542969 | Test Acc: 45.75163269042969\n",
            "Cost after iteration 10: 0.6691470742225647 | Train Acc: 64.3442611694336 | Test Acc: 54.24836730957031\n",
            "Cost after iteration 20: 0.6513182520866394 | Train Acc: 68.44261932373047 | Test Acc: 54.24836730957031\n",
            "Cost after iteration 30: 0.6367825269699097 | Train Acc: 68.03278350830078 | Test Acc: 54.24836730957031\n",
            "Cost after iteration 40: 0.6245337128639221 | Train Acc: 69.67213439941406 | Test Acc: 54.90196228027344\n",
            "Cost after iteration 50: 0.6139225363731384 | Train Acc: 70.90164184570312 | Test Acc: 56.20914840698242\n",
            "Cost after iteration 60: 0.6045235991477966 | Train Acc: 72.54098510742188 | Test Acc: 56.86274337768555\n",
            "Cost after iteration 70: 0.5960511565208435 | Train Acc: 74.18032836914062 | Test Acc: 57.51633834838867\n",
            "Cost after iteration 80: 0.5883085131645203 | Train Acc: 73.77049255371094 | Test Acc: 57.51633834838867\n",
            "Cost after iteration 90: 0.5811557173728943 | Train Acc: 74.59016418457031 | Test Acc: 58.1699333190918\n"
          ]
        }
      ],
      "source": [
        "## hyperparams\n",
        "costs = []\n",
        "dim = x_flatten.shape[0]\n",
        "learning_rate = torch.scalar_tensor(0.0001).to(device)\n",
        "num_iterations = 100\n",
        "lrmodel = LR(dim, learning_rate)\n",
        "lrmodel.to(device)\n",
        "\n",
        "## transform the data\n",
        "def transform_data(x, y):\n",
        "    x_flatten = x.T\n",
        "    y = y.unsqueeze(0) \n",
        "    return x_flatten, y \n",
        "\n",
        "## training the model\n",
        "for i in range(num_iterations):\n",
        "    x, y = next(iter(train_dataset))\n",
        "    test_x, test_y = next(iter(test_dataset))\n",
        "    x, y = transform_data(x, y)\n",
        "    test_x, test_y = transform_data(test_x, test_y)\n",
        "\n",
        "    # forward\n",
        "    yhat = lrmodel.forward(x.to(device))\n",
        "    cost = loss(yhat.data.cpu(), y)\n",
        "    train_pred = predict(yhat, y)\n",
        "        \n",
        "    # backward\n",
        "    lrmodel.backward(x.to(device), \n",
        "                    yhat.to(device), \n",
        "                    y.to(device))\n",
        "    lrmodel.optimize()\n",
        "    ## test\n",
        "    yhat_test = lrmodel.forward(test_x.to(device))\n",
        "    test_pred = predict(yhat_test, test_y)\n",
        "\n",
        "    if i % 10 == 0:\n",
        "        costs.append(cost)\n",
        "\n",
        "    if i % 10 == 0:\n",
        "        print(\"Cost after iteration {}: {} | Train Acc: {} | Test Acc: {}\".format(i, \n",
        "                                                                                    cost, \n",
        "                                                                                    train_pred,\n",
        "                                                                                    test_pred))\n"
      ]
    },
    {
      "cell_type": "code",
      "execution_count": 29,
      "metadata": {
        "colab": {
          "base_uri": "https://localhost:8080/",
          "height": 265
        },
        "id": "zdGGiFdOl5gJ",
        "outputId": "19cca370-9aad-4b36-cd29-6ffdcfd826ea"
      },
      "outputs": [
        {
          "output_type": "display_data",
          "data": {
            "text/plain": [
              "<Figure size 432x288 with 1 Axes>"
            ],
            "image/png": "[encoded data removed]"
          },
          "metadata": {
            "needs_background": "light"
          }
        }
      ],
      "source": [
        "\n",
        "## the trend in the context of loss\n",
        "plt.plot(costs)\n",
        "plt.show()"
      ]
    },
    {
      "cell_type": "code",
      "execution_count": null,
      "metadata": {
        "id": "Sr1ouDZA46pA"
      },
      "outputs": [],
      "source": []
    }
  ],
  "metadata": {
    "colab": {
      "collapsed_sections": [],
      "provenance": [],
      "include_colab_link": true
    },
    "kernelspec": {
      "display_name": "Lablup FF 20.07 on Python 3.6 (CUDA 10.1)",
      "language": "python",
      "name": "python3"
    },
    "language_info": {
      "codemirror_mode": {
        "name": "ipython",
        "version": 3
      },
      "file_extension": ".py",
      "mimetype": "text/x-python",
      "name": "python",
      "nbconvert_exporter": "python",
      "pygments_lexer": "ipython3",
      "version": "3.6.9"
    },
    "accelerator": "GPU"
  },
  "nbformat": 4,
  "nbformat_minor": 0
}