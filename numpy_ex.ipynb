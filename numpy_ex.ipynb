{
  "nbformat": 4,
  "nbformat_minor": 0,
  "metadata": {
    "colab": {
      "provenance": [],
      "collapsed_sections": [],
      "authorship_tag": "ABX9TyO92m06a3i/mHlLwGSwZ39i"
    },
    "kernelspec": {
      "name": "python3",
      "display_name": "Python 3"
    },
    "language_info": {
      "name": "python"
    }
  },
  "cells": [
    {
      "cell_type": "code",
      "execution_count": 1,
      "metadata": {
        "id": "cD1cSRV6ka4m"
      },
      "outputs": [],
      "source": [
        "import numpy as np"
      ]
    },
    {
      "cell_type": "code",
      "source": [
        "a = [1,2,3,4,5]\n",
        "b = [5,4,3,2,1]"
      ],
      "metadata": {
        "id": "bi01xOjXlbDq"
      },
      "execution_count": 2,
      "outputs": []
    },
    {
      "cell_type": "code",
      "source": [
        "a = np.array(a,int)\n",
        "a"
      ],
      "metadata": {
        "colab": {
          "base_uri": "https://localhost:8080/"
        },
        "id": "JGX2qhtbmxXU",
        "outputId": "fad234a1-88f7-4b85-b5f3-18c7daffed94"
      },
      "execution_count": 3,
      "outputs": [
        {
          "output_type": "execute_result",
          "data": {
            "text/plain": [
              "array([1, 2, 3, 4, 5])"
            ]
          },
          "metadata": {},
          "execution_count": 3
        }
      ]
    },
    {
      "cell_type": "code",
      "source": [
        "test_arry = np.array(['1', 2, 5.0, 4], float)\n",
        "test_arry"
      ],
      "metadata": {
        "colab": {
          "base_uri": "https://localhost:8080/"
        },
        "id": "Hl6BaQBgm055",
        "outputId": "cd26bc24-c3bc-4cc2-8111-a8aa26eb8056"
      },
      "execution_count": 6,
      "outputs": [
        {
          "output_type": "execute_result",
          "data": {
            "text/plain": [
              "array([1., 2., 5., 4.])"
            ]
          },
          "metadata": {},
          "execution_count": 6
        }
      ]
    },
    {
      "cell_type": "code",
      "source": [
        "print(type(test_arry))\n",
        "print(type(test_arry[3]))"
      ],
      "metadata": {
        "colab": {
          "base_uri": "https://localhost:8080/"
        },
        "id": "VXSLwpyAnhau",
        "outputId": "77729fa6-3f39-4d9e-998f-b160dead377e"
      },
      "execution_count": 9,
      "outputs": [
        {
          "output_type": "stream",
          "name": "stdout",
          "text": [
            "<class 'numpy.ndarray'>\n",
            "<class 'numpy.float64'>\n"
          ]
        }
      ]
    },
    {
      "cell_type": "code",
      "source": [
        "tensor = [\n",
        "        [[1,2,3,4],\n",
        "        [1,2,3,4],\n",
        "        [1,2,3,4]],\n",
        "\n",
        "        [[1,2,3,4],\n",
        "        [1,2,3,4],\n",
        "        [1,2,3,4]],\n",
        "\n",
        "        [[1,2,3,4],\n",
        "        [1,2,3,4],\n",
        "        [1,2,3,4]],\n",
        "\n",
        "        [[1,2,3,4],\n",
        "        [1,2,3,4],\n",
        "        [1,2,3,4]]\n",
        "]\n",
        "print(np.array(tensor, int).shape) # shape\n",
        "print(np.array(tensor, int).ndim) # 차원의 개수\n",
        "print(np.array(tensor, int).size) # 데이터의 개수"
      ],
      "metadata": {
        "colab": {
          "base_uri": "https://localhost:8080/"
        },
        "id": "22vz3zJtnr9m",
        "outputId": "2e43cded-cc9c-411b-bbab-1eb0ed7dd3dd"
      },
      "execution_count": 13,
      "outputs": [
        {
          "output_type": "stream",
          "name": "stdout",
          "text": [
            "(4, 3, 4)\n",
            "3\n",
            "48\n"
          ]
        }
      ]
    },
    {
      "cell_type": "markdown",
      "source": [
        "# reshape"
      ],
      "metadata": {
        "id": "d_OiJX9mtENt"
      }
    },
    {
      "cell_type": "code",
      "source": [
        "test_matrix = [[1,2,3,4], [1,2,5,8]]\n",
        "np.array(test_matrix).shape"
      ],
      "metadata": {
        "colab": {
          "base_uri": "https://localhost:8080/"
        },
        "id": "HIKXRVBpok6V",
        "outputId": "41e8b064-48b9-474b-fba8-3eff004dbe2a"
      },
      "execution_count": 15,
      "outputs": [
        {
          "output_type": "execute_result",
          "data": {
            "text/plain": [
              "(2, 4)"
            ]
          },
          "metadata": {},
          "execution_count": 15
        }
      ]
    },
    {
      "cell_type": "code",
      "source": [
        "np.array(test_matrix).reshape(4,2)"
      ],
      "metadata": {
        "colab": {
          "base_uri": "https://localhost:8080/"
        },
        "id": "HKSig_7ltYoM",
        "outputId": "6e106e40-91f9-4f8c-f386-987c65f68e9e"
      },
      "execution_count": 16,
      "outputs": [
        {
          "output_type": "execute_result",
          "data": {
            "text/plain": [
              "array([[1, 2],\n",
              "       [3, 4],\n",
              "       [1, 2],\n",
              "       [5, 8]])"
            ]
          },
          "metadata": {},
          "execution_count": 16
        }
      ]
    },
    {
      "cell_type": "code",
      "source": [
        "np.array(test_matrix).reshape(2,2,2)"
      ],
      "metadata": {
        "colab": {
          "base_uri": "https://localhost:8080/"
        },
        "id": "quVpuJiHtlTK",
        "outputId": "eabb7eea-dcf9-4e26-8939-4809da7bbf7c"
      },
      "execution_count": 17,
      "outputs": [
        {
          "output_type": "execute_result",
          "data": {
            "text/plain": [
              "array([[[1, 2],\n",
              "        [3, 4]],\n",
              "\n",
              "       [[1, 2],\n",
              "        [5, 8]]])"
            ]
          },
          "metadata": {},
          "execution_count": 17
        }
      ]
    },
    {
      "cell_type": "code",
      "source": [
        "np.array(test_matrix).reshape(8,)"
      ],
      "metadata": {
        "colab": {
          "base_uri": "https://localhost:8080/"
        },
        "id": "zUO8rWtQtqR8",
        "outputId": "a4301730-37dd-451e-c3b0-8530e43bba33"
      },
      "execution_count": 18,
      "outputs": [
        {
          "output_type": "execute_result",
          "data": {
            "text/plain": [
              "array([1, 2, 3, 4, 1, 2, 5, 8])"
            ]
          },
          "metadata": {},
          "execution_count": 18
        }
      ]
    },
    {
      "cell_type": "code",
      "source": [
        "np.array(test_matrix).reshape(-1,2) # -1: 알아서 잡아 줌"
      ],
      "metadata": {
        "colab": {
          "base_uri": "https://localhost:8080/"
        },
        "id": "GM8KvnJ5ol5O",
        "outputId": "518837db-130d-480a-a2a6-73ab9016799b"
      },
      "execution_count": 19,
      "outputs": [
        {
          "output_type": "execute_result",
          "data": {
            "text/plain": [
              "array([[1, 2],\n",
              "       [3, 4],\n",
              "       [1, 2],\n",
              "       [5, 8]])"
            ]
          },
          "metadata": {},
          "execution_count": 19
        }
      ]
    },
    {
      "cell_type": "markdown",
      "source": [
        "# flatten\n",
        "다차원 array를 1차원 array로 변환"
      ],
      "metadata": {
        "id": "WfdK22U3uHMR"
      }
    },
    {
      "cell_type": "code",
      "source": [
        "test_matrix = [[[1,2,3,4], [1,2,5,8]], [[1,2,3,4], [1,2,5,8]]]\n",
        "np.array(test_matrix)"
      ],
      "metadata": {
        "colab": {
          "base_uri": "https://localhost:8080/"
        },
        "id": "Ef1lzvHat1-_",
        "outputId": "3087a7f7-efa9-4d48-8c55-e5488e9342a9"
      },
      "execution_count": 20,
      "outputs": [
        {
          "output_type": "execute_result",
          "data": {
            "text/plain": [
              "array([[[1, 2, 3, 4],\n",
              "        [1, 2, 5, 8]],\n",
              "\n",
              "       [[1, 2, 3, 4],\n",
              "        [1, 2, 5, 8]]])"
            ]
          },
          "metadata": {},
          "execution_count": 20
        }
      ]
    },
    {
      "cell_type": "code",
      "source": [
        "np.array(test_matrix).flatten()"
      ],
      "metadata": {
        "colab": {
          "base_uri": "https://localhost:8080/"
        },
        "id": "zsGrgXGPukCd",
        "outputId": "984c2846-5cea-4ffa-adf3-410ed3a50121"
      },
      "execution_count": 21,
      "outputs": [
        {
          "output_type": "execute_result",
          "data": {
            "text/plain": [
              "array([1, 2, 3, 4, 1, 2, 5, 8, 1, 2, 3, 4, 1, 2, 5, 8])"
            ]
          },
          "metadata": {},
          "execution_count": 21
        }
      ]
    },
    {
      "cell_type": "code",
      "source": [
        "np.array(test_matrix).flatten().shape"
      ],
      "metadata": {
        "colab": {
          "base_uri": "https://localhost:8080/"
        },
        "id": "dNcQm59QuwN7",
        "outputId": "1f2e061d-f671-4b49-f2a1-2d4c35ea8d06"
      },
      "execution_count": 22,
      "outputs": [
        {
          "output_type": "execute_result",
          "data": {
            "text/plain": [
              "(16,)"
            ]
          },
          "metadata": {},
          "execution_count": 22
        }
      ]
    },
    {
      "cell_type": "markdown",
      "source": [
        "# indexing\n",
        "\n",
        "리스트와 달리 [r,c] 표기법 가능"
      ],
      "metadata": {
        "id": "4EX-Cx_Yu7mL"
      }
    },
    {
      "cell_type": "code",
      "source": [
        "tm = np.array([[1,2,3],[4.5,5,6]], int)\n",
        "tm"
      ],
      "metadata": {
        "colab": {
          "base_uri": "https://localhost:8080/"
        },
        "id": "sE1oNfJzompc",
        "outputId": "109a4a1d-0de2-4c95-d8a7-d44d05014397"
      },
      "execution_count": 23,
      "outputs": [
        {
          "output_type": "execute_result",
          "data": {
            "text/plain": [
              "array([[1, 2, 3],\n",
              "       [4, 5, 6]])"
            ]
          },
          "metadata": {},
          "execution_count": 23
        }
      ]
    },
    {
      "cell_type": "code",
      "source": [
        "print(tm[0][2])\n",
        "print(tm[0, 2])"
      ],
      "metadata": {
        "colab": {
          "base_uri": "https://localhost:8080/"
        },
        "id": "BQHwYmzxonMo",
        "outputId": "43cbb275-8e14-40ef-e293-5da254e718ac"
      },
      "execution_count": 25,
      "outputs": [
        {
          "output_type": "stream",
          "name": "stdout",
          "text": [
            "3\n",
            "3\n"
          ]
        }
      ]
    },
    {
      "cell_type": "code",
      "source": [
        "tm[0,0] = 10\n",
        "tm"
      ],
      "metadata": {
        "colab": {
          "base_uri": "https://localhost:8080/"
        },
        "id": "tdUOJA04onln",
        "outputId": "9c7fe7ae-7fe9-49c3-cafb-df533a6ac2fd"
      },
      "execution_count": 27,
      "outputs": [
        {
          "output_type": "execute_result",
          "data": {
            "text/plain": [
              "array([[10,  2,  3],\n",
              "       [ 4,  5,  6]])"
            ]
          },
          "metadata": {},
          "execution_count": 27
        }
      ]
    },
    {
      "cell_type": "markdown",
      "source": [
        "# slicing\n",
        "\n",
        "list와 달리 행과 열 부분을 나눠서 slicing 가능"
      ],
      "metadata": {
        "id": "aD3YvZwjwJph"
      }
    },
    {
      "cell_type": "code",
      "source": [
        "tm = np.array([[1,2,5,8], [1,2,5,8], [1,2,5,8], [1,2,5,8]], int)\n",
        "tm"
      ],
      "metadata": {
        "colab": {
          "base_uri": "https://localhost:8080/"
        },
        "id": "UdZ8_5ItonvM",
        "outputId": "ee3d7285-48d7-471c-837f-088744892d8d"
      },
      "execution_count": 28,
      "outputs": [
        {
          "output_type": "execute_result",
          "data": {
            "text/plain": [
              "array([[1, 2, 5, 8],\n",
              "       [1, 2, 5, 8],\n",
              "       [1, 2, 5, 8],\n",
              "       [1, 2, 5, 8]])"
            ]
          },
          "metadata": {},
          "execution_count": 28
        }
      ]
    },
    {
      "cell_type": "code",
      "source": [
        "tm[:, 2:]"
      ],
      "metadata": {
        "colab": {
          "base_uri": "https://localhost:8080/"
        },
        "id": "KSS2DHyLwu6l",
        "outputId": "e6dd4a1a-7bd8-4966-f762-a35a3ed6221b"
      },
      "execution_count": 29,
      "outputs": [
        {
          "output_type": "execute_result",
          "data": {
            "text/plain": [
              "array([[5, 8],\n",
              "       [5, 8],\n",
              "       [5, 8],\n",
              "       [5, 8]])"
            ]
          },
          "metadata": {},
          "execution_count": 29
        }
      ]
    },
    {
      "cell_type": "code",
      "source": [
        "tm[1:2, :2]"
      ],
      "metadata": {
        "colab": {
          "base_uri": "https://localhost:8080/"
        },
        "id": "0Xn0MxbOon3K",
        "outputId": "94833fc2-1857-41de-9e34-af3a690b11d7"
      },
      "execution_count": 30,
      "outputs": [
        {
          "output_type": "execute_result",
          "data": {
            "text/plain": [
              "array([[1, 2]])"
            ]
          },
          "metadata": {},
          "execution_count": 30
        }
      ]
    },
    {
      "cell_type": "code",
      "source": [
        "tm = np.array([[1,2,3,4,5], [6,7,8,9,10]], int)\n",
        "tm"
      ],
      "metadata": {
        "colab": {
          "base_uri": "https://localhost:8080/"
        },
        "id": "44CU8YF8xBjQ",
        "outputId": "f4207a0b-3424-4240-a420-d04cf2d37fb7"
      },
      "execution_count": 32,
      "outputs": [
        {
          "output_type": "execute_result",
          "data": {
            "text/plain": [
              "array([[ 1,  2,  3,  4,  5],\n",
              "       [ 6,  7,  8,  9, 10]])"
            ]
          },
          "metadata": {},
          "execution_count": 32
        }
      ]
    },
    {
      "cell_type": "code",
      "source": [
        "tm[1]"
      ],
      "metadata": {
        "colab": {
          "base_uri": "https://localhost:8080/"
        },
        "id": "yMfyN5O3xXsv",
        "outputId": "c5e546e6-f542-45d3-e4ad-25e280fd1afc"
      },
      "execution_count": 33,
      "outputs": [
        {
          "output_type": "execute_result",
          "data": {
            "text/plain": [
              "array([ 6,  7,  8,  9, 10])"
            ]
          },
          "metadata": {},
          "execution_count": 33
        }
      ]
    },
    {
      "cell_type": "code",
      "source": [
        "tm[1:3]"
      ],
      "metadata": {
        "colab": {
          "base_uri": "https://localhost:8080/"
        },
        "id": "vJr1T9Teon9z",
        "outputId": "5c7efa8f-1277-42af-dfb8-0d87756abf62"
      },
      "execution_count": 34,
      "outputs": [
        {
          "output_type": "execute_result",
          "data": {
            "text/plain": [
              "array([[ 6,  7,  8,  9, 10]])"
            ]
          },
          "metadata": {},
          "execution_count": 34
        }
      ]
    },
    {
      "cell_type": "code",
      "source": [
        "a = np.arange(100).reshape(10,10)\n",
        "a"
      ],
      "metadata": {
        "colab": {
          "base_uri": "https://localhost:8080/"
        },
        "id": "MMbRomLtxhcl",
        "outputId": "4d7a75c4-236b-4fab-fcc5-094e0ed58ec7"
      },
      "execution_count": 35,
      "outputs": [
        {
          "output_type": "execute_result",
          "data": {
            "text/plain": [
              "array([[ 0,  1,  2,  3,  4,  5,  6,  7,  8,  9],\n",
              "       [10, 11, 12, 13, 14, 15, 16, 17, 18, 19],\n",
              "       [20, 21, 22, 23, 24, 25, 26, 27, 28, 29],\n",
              "       [30, 31, 32, 33, 34, 35, 36, 37, 38, 39],\n",
              "       [40, 41, 42, 43, 44, 45, 46, 47, 48, 49],\n",
              "       [50, 51, 52, 53, 54, 55, 56, 57, 58, 59],\n",
              "       [60, 61, 62, 63, 64, 65, 66, 67, 68, 69],\n",
              "       [70, 71, 72, 73, 74, 75, 76, 77, 78, 79],\n",
              "       [80, 81, 82, 83, 84, 85, 86, 87, 88, 89],\n",
              "       [90, 91, 92, 93, 94, 95, 96, 97, 98, 99]])"
            ]
          },
          "metadata": {},
          "execution_count": 35
        }
      ]
    },
    {
      "cell_type": "code",
      "source": [
        "a[:,-1]"
      ],
      "metadata": {
        "colab": {
          "base_uri": "https://localhost:8080/"
        },
        "id": "JfiUKEYfooDr",
        "outputId": "9dab7636-7123-4e70-bf93-1dcc7962cea1"
      },
      "execution_count": 36,
      "outputs": [
        {
          "output_type": "execute_result",
          "data": {
            "text/plain": [
              "array([ 9, 19, 29, 39, 49, 59, 69, 79, 89, 99])"
            ]
          },
          "metadata": {},
          "execution_count": 36
        }
      ]
    },
    {
      "cell_type": "markdown",
      "source": [
        "# creation function"
      ],
      "metadata": {
        "id": "jsG9GF-RykoJ"
      }
    },
    {
      "cell_type": "code",
      "source": [
        "tm = [\n",
        "    [[1,2,3,4],\n",
        "     [5,6,7,8],\n",
        "     [9,10,11,12]],\n",
        "      \n",
        "    [[1,2,3,4],\n",
        "     [5,6,7,8],\n",
        "     [9,10,11,12]],\n",
        "      \n",
        "    [[1,2,3,4],\n",
        "     [5,6,7,8],\n",
        "     [9,10,11,12]],\n",
        "      \n",
        "]"
      ],
      "metadata": {
        "id": "IWCsc1uDoszj"
      },
      "execution_count": 37,
      "outputs": []
    },
    {
      "cell_type": "code",
      "source": [
        "np.array(tm).sum(axis = 2) # 행을 더해 줌"
      ],
      "metadata": {
        "colab": {
          "base_uri": "https://localhost:8080/"
        },
        "id": "dGKhbX-v8pEn",
        "outputId": "429c7db2-e89a-4d4f-e749-0744e427f021"
      },
      "execution_count": 39,
      "outputs": [
        {
          "output_type": "execute_result",
          "data": {
            "text/plain": [
              "array([[10, 26, 42],\n",
              "       [10, 26, 42],\n",
              "       [10, 26, 42]])"
            ]
          },
          "metadata": {},
          "execution_count": 39
        }
      ]
    },
    {
      "cell_type": "code",
      "source": [
        "np.array(tm).sum(axis = 1) # 열을 더해줌"
      ],
      "metadata": {
        "colab": {
          "base_uri": "https://localhost:8080/"
        },
        "id": "RJTNd4Od8tSy",
        "outputId": "e5c6af5c-0849-4773-86c1-a9bc432c58b7"
      },
      "execution_count": 40,
      "outputs": [
        {
          "output_type": "execute_result",
          "data": {
            "text/plain": [
              "array([[15, 18, 21, 24],\n",
              "       [15, 18, 21, 24],\n",
              "       [15, 18, 21, 24]])"
            ]
          },
          "metadata": {},
          "execution_count": 40
        }
      ]
    },
    {
      "cell_type": "code",
      "source": [
        "np.array(tm).sum(axis = 0) # 같은 위치 채널 값 더해줌"
      ],
      "metadata": {
        "colab": {
          "base_uri": "https://localhost:8080/"
        },
        "id": "Pm4WA4bQ89br",
        "outputId": "a8496792-2fd8-4a3e-935b-5a30808349f9"
      },
      "execution_count": 41,
      "outputs": [
        {
          "output_type": "execute_result",
          "data": {
            "text/plain": [
              "array([[ 3,  6,  9, 12],\n",
              "       [15, 18, 21, 24],\n",
              "       [27, 30, 33, 36]])"
            ]
          },
          "metadata": {},
          "execution_count": 41
        }
      ]
    },
    {
      "cell_type": "markdown",
      "source": [
        "# concatenate"
      ],
      "metadata": {
        "id": "QELvsekK-eYj"
      }
    },
    {
      "cell_type": "code",
      "source": [
        "a = np.array([[1,2], [3,4]])\n",
        "b = np.array([[5], [6]])\n",
        "np.concatenate((a,b), axis=1)"
      ],
      "metadata": {
        "colab": {
          "base_uri": "https://localhost:8080/"
        },
        "id": "7768lA9h8-T7",
        "outputId": "010ab3a0-ff48-4d16-d80e-6111fb084c28"
      },
      "execution_count": 42,
      "outputs": [
        {
          "output_type": "execute_result",
          "data": {
            "text/plain": [
              "array([[1, 2, 5],\n",
              "       [3, 4, 6]])"
            ]
          },
          "metadata": {},
          "execution_count": 42
        }
      ]
    },
    {
      "cell_type": "code",
      "source": [
        "a = np.array([[1,2], [3,4]])\n",
        "b = np.array([5,6]) # 지금은 벡터임\n",
        "b = b[np.newaxis, :] # 축 추가 -> 행열이 됨\n",
        "np.concatenate((a,b.T), axis=1)"
      ],
      "metadata": {
        "colab": {
          "base_uri": "https://localhost:8080/"
        },
        "id": "ab7bzaKGotRS",
        "outputId": "4e6e60fb-c28a-411f-bdc6-d8d7c29a1e04"
      },
      "execution_count": 43,
      "outputs": [
        {
          "output_type": "execute_result",
          "data": {
            "text/plain": [
              "array([[1, 2, 5],\n",
              "       [3, 4, 6]])"
            ]
          },
          "metadata": {},
          "execution_count": 43
        }
      ]
    },
    {
      "cell_type": "markdown",
      "source": [
        "# comparisons"
      ],
      "metadata": {
        "id": "BIokpXCQCZVl"
      }
    },
    {
      "cell_type": "code",
      "source": [
        "a = np.arange(10)\n",
        "a"
      ],
      "metadata": {
        "colab": {
          "base_uri": "https://localhost:8080/"
        },
        "id": "uuUk2oopotp3",
        "outputId": "ffdb14ea-3311-4a89-a146-2e53b551f245"
      },
      "execution_count": 44,
      "outputs": [
        {
          "output_type": "execute_result",
          "data": {
            "text/plain": [
              "array([0, 1, 2, 3, 4, 5, 6, 7, 8, 9])"
            ]
          },
          "metadata": {},
          "execution_count": 44
        }
      ]
    },
    {
      "cell_type": "code",
      "source": [
        "a < 4 # broadcasting이 일어남 -> 각각의 element에 적용"
      ],
      "metadata": {
        "colab": {
          "base_uri": "https://localhost:8080/"
        },
        "id": "gI-FVd6gDE1s",
        "outputId": "84856cb7-0914-4c8a-8f21-c8ab867c0bba"
      },
      "execution_count": 45,
      "outputs": [
        {
          "output_type": "execute_result",
          "data": {
            "text/plain": [
              "array([ True,  True,  True,  True, False, False, False, False, False,\n",
              "       False])"
            ]
          },
          "metadata": {},
          "execution_count": 45
        }
      ]
    },
    {
      "cell_type": "code",
      "source": [
        "np.any(a>5), np.all(a>5) # 하나라도 True면 True, 전부 True여야 True"
      ],
      "metadata": {
        "colab": {
          "base_uri": "https://localhost:8080/"
        },
        "id": "KwgrcYgbDG0o",
        "outputId": "0dfce1e5-ca58-40a6-eb67-309e2b83836c"
      },
      "execution_count": 46,
      "outputs": [
        {
          "output_type": "execute_result",
          "data": {
            "text/plain": [
              "(True, False)"
            ]
          },
          "metadata": {},
          "execution_count": 46
        }
      ]
    },
    {
      "cell_type": "code",
      "source": [
        "# 배열의 크기가 같으면 element간 비교 결과를 Boolean type으로 반환\n",
        "a = np.array([1,3,0], float)\n",
        "b = np.array([5,2,1], float)\n",
        "a > b"
      ],
      "metadata": {
        "colab": {
          "base_uri": "https://localhost:8080/"
        },
        "id": "A8hzrB4UDlyZ",
        "outputId": "570a00a9-7f8a-4131-92d7-6df55e90ad34"
      },
      "execution_count": 47,
      "outputs": [
        {
          "output_type": "execute_result",
          "data": {
            "text/plain": [
              "array([False,  True, False])"
            ]
          },
          "metadata": {},
          "execution_count": 47
        }
      ]
    },
    {
      "cell_type": "markdown",
      "source": [
        "# np.where"
      ],
      "metadata": {
        "id": "Xgi9uRp6FHLr"
      }
    },
    {
      "cell_type": "code",
      "source": [
        "a = np.array([1,3,0], float)\n",
        "a"
      ],
      "metadata": {
        "colab": {
          "base_uri": "https://localhost:8080/"
        },
        "id": "R6we6j9UEO0p",
        "outputId": "200f2ef0-65a3-4689-a875-0c107dccfde9"
      },
      "execution_count": 48,
      "outputs": [
        {
          "output_type": "execute_result",
          "data": {
            "text/plain": [
              "array([1., 3., 0.])"
            ]
          },
          "metadata": {},
          "execution_count": 48
        }
      ]
    },
    {
      "cell_type": "code",
      "source": [
        "np.where(a > 5)"
      ],
      "metadata": {
        "colab": {
          "base_uri": "https://localhost:8080/"
        },
        "id": "tRbFWKWTFO3f",
        "outputId": "7972deb2-2e6f-4384-e199-fabd0b6928c0"
      },
      "execution_count": 49,
      "outputs": [
        {
          "output_type": "execute_result",
          "data": {
            "text/plain": [
              "(array([], dtype=int64),)"
            ]
          },
          "metadata": {},
          "execution_count": 49
        }
      ]
    },
    {
      "cell_type": "code",
      "source": [
        "np.where(a > 2) # tuple 값으로 반환"
      ],
      "metadata": {
        "colab": {
          "base_uri": "https://localhost:8080/"
        },
        "id": "YAQaHqlaFS0O",
        "outputId": "305bde3f-070f-4f17-e87b-fa70af7cb1ba"
      },
      "execution_count": 50,
      "outputs": [
        {
          "output_type": "execute_result",
          "data": {
            "text/plain": [
              "(array([1]),)"
            ]
          },
          "metadata": {},
          "execution_count": 50
        }
      ]
    },
    {
      "cell_type": "code",
      "source": [
        "np.where(a < 3, 3,2) # where(condition, True, False) : condition에 대해 True면 True 위치의 값을, False면 False 위치의 값을 대입"
      ],
      "metadata": {
        "colab": {
          "base_uri": "https://localhost:8080/"
        },
        "id": "RCJAEnpgFp2l",
        "outputId": "15fc0d1b-82e8-4c2b-a297-5c8608db76a0"
      },
      "execution_count": 51,
      "outputs": [
        {
          "output_type": "execute_result",
          "data": {
            "text/plain": [
              "array([3, 2, 3])"
            ]
          },
          "metadata": {},
          "execution_count": 51
        }
      ]
    },
    {
      "cell_type": "markdown",
      "source": [
        "# argmax & argmin\n",
        "\n",
        "idx를 반환해 줌"
      ],
      "metadata": {
        "id": "kONctj3PGseM"
      }
    },
    {
      "cell_type": "code",
      "source": [
        "a = np.array([1,2,4,5,8,78,23,3])\n",
        "a"
      ],
      "metadata": {
        "colab": {
          "base_uri": "https://localhost:8080/"
        },
        "id": "haxoLmF7GGRz",
        "outputId": "4d3a97fe-6792-49ca-b5c0-29e59b5f9abe"
      },
      "execution_count": 52,
      "outputs": [
        {
          "output_type": "execute_result",
          "data": {
            "text/plain": [
              "array([ 1,  2,  4,  5,  8, 78, 23,  3])"
            ]
          },
          "metadata": {},
          "execution_count": 52
        }
      ]
    },
    {
      "cell_type": "code",
      "source": [
        "a.argsort() # 정렬됬을때 키 값의 순서를 idx로 반환"
      ],
      "metadata": {
        "colab": {
          "base_uri": "https://localhost:8080/"
        },
        "id": "DME9Yd7IG5tO",
        "outputId": "ce66a3da-eb82-4f40-f377-23a40b519014"
      },
      "execution_count": 53,
      "outputs": [
        {
          "output_type": "execute_result",
          "data": {
            "text/plain": [
              "array([0, 1, 7, 2, 3, 4, 6, 5])"
            ]
          },
          "metadata": {},
          "execution_count": 53
        }
      ]
    },
    {
      "cell_type": "code",
      "source": [
        "print(np.argmax(a))\n",
        "print(a[np.argmax(a)])\n",
        "print()\n",
        "print(np.argmin(a))\n",
        "print(a[np.argmin(a)])"
      ],
      "metadata": {
        "colab": {
          "base_uri": "https://localhost:8080/"
        },
        "id": "uIexC05dHorb",
        "outputId": "b1d284e3-b2af-4cc0-e107-fd1a1093f90a"
      },
      "execution_count": 55,
      "outputs": [
        {
          "output_type": "stream",
          "name": "stdout",
          "text": [
            "5\n",
            "78\n",
            "\n",
            "0\n",
            "1\n"
          ]
        }
      ]
    }
  ]
}